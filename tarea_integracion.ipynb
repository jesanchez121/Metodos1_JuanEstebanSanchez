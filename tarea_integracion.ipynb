{
  "nbformat": 4,
  "nbformat_minor": 0,
  "metadata": {
    "colab": {
      "provenance": [],
      "authorship_tag": "ABX9TyM9KFZkflg8opY9+/mOIb6E",
      "include_colab_link": true
    },
    "kernelspec": {
      "name": "python3",
      "display_name": "Python 3"
    },
    "language_info": {
      "name": "python"
    }
  },
  "cells": [
    {
      "cell_type": "markdown",
      "metadata": {
        "id": "view-in-github",
        "colab_type": "text"
      },
      "source": [
        "<a href=\"https://colab.research.google.com/github/jesanchez121/Metodos1_JuanEstebanSanchez/blob/main/tarea_integracion.ipynb\" target=\"_parent\"><img src=\"https://colab.research.google.com/assets/colab-badge.svg\" alt=\"Open In Colab\"/></a>"
      ]
    },
    {
      "cell_type": "code",
      "source": [
        "import sympy as sp\n",
        "import numpy as np\n",
        "import matplotlib.pyplot as plt"
      ],
      "metadata": {
        "id": "hVkxNs5n9cPr"
      },
      "execution_count": 312,
      "outputs": []
    },
    {
      "cell_type": "markdown",
      "source": [
        "3. (Theoretical) Hacer los pasos intermedios para encontrar la regla de Simpson simple,\n",
        "Ecuacion (4.109).\n",
        "\n",
        "$f(x) ≈ p_{2}(x) = \\frac{(x − b)(x − x_{m})}\n",
        "{(a − b)(a − x_{m})}\n",
        "f(a)+ \\frac{(x − a)(x − b)}\n",
        "{(x_{m} − a)(x_{m} − b)}\n",
        "f(x_{m}) + \\frac{(x − a)(x − x_{m})}\n",
        "{(b − a)(b − x_{m})}f(b), ∀x ∈ [a, b].$\n",
        "\n",
        "\n",
        "\n",
        "$\\int_a^{b} \\ p_{2}(x) \\ \\mathrm{d}x \\ = \\int_a^{b} \\left( \\frac{(x − b)(x − x_{m})}\n",
        "{(a − b)(a − x_{m})}\n",
        "f(a)+ \\frac{(x − a)(x − b)}\n",
        "{(x_{m} − a)(x_{m} − b)}\n",
        "f(x_{m}) + \\frac{(x − a)(x − x_{m})}\n",
        "{(b − a)(b − x_{m})}f(b) \\right) $\n",
        "\n",
        "$=$\n",
        "\n",
        "\n",
        "$\\frac{f(a)}{(a − b)(a − x_{m})} \\int_a^{b} (x − b)(x − x_{m}) + \\frac{f(x_{m})}{(x_{m} − a)(x_{m} - b)} \\int_a^{b} (x − a)(x − b) + \\frac{f(b)}{(b − a)(b − x_{m})} \\int_a^{b} (x − a)(x − x_{m}) $\n",
        "\n",
        "$=$\n",
        "\n",
        "\n",
        "$\\frac{f(a)}{(a − b)(a − x_{m})} \\int_a^{b} \\left( x^2 − x(x_{m}+b)+bx_{m} \\right) + \\frac{f(x_{m})}{(x_{m} − a)(x_{m} - b)} \\int_a^{b} \\left( x^2 − x(a+b)+ab \\right) + \\frac{f(b)}{(b − a)(b − x_{m})} \\int_a^{b} \\left( x^2 − x(x_{m}+a)+ax_{m} \\right) $\n",
        "\n",
        "$=$\n",
        "\n",
        "\n",
        "$\\frac{f(a)}{(a − b)(a − x_{m})} \\left. \\left( \\frac{x^3}{3} − \\frac{x^2}{2}(x_{m}+b)+xbx_{m} \\right)\\right|_a^b   + \\frac{f(x_{m})}{(x_{m} − a)(x_{m} - b)} \\left. \\left( \\frac{x^3}{3} − \\frac{x^2}{2}(a+b)+xab \\right) \\right|_a^b  + \\frac{f(b)}{(b − a)(b − x_{m})} \\left. \\left( \\frac{x^3}{3} − \\frac{x^2}{2}(x_{m}+a)+xax_{m} \\right) \\right|_a^b $\n",
        "\n",
        "$=$\n",
        "\n",
        "$\\frac{f(a)}{(a − b)(a − x_{m})} \\left( \\frac{b^3-a^3}{3} − \\frac{b^2-a^2}{2}(x_{m}+b)+ (b^2x_{m}-abx_{m}) \\right) + \\frac{f(x_{m})}{(x_{m} − a)(x_{m} - b)}  \\left( \\frac{b^3-a^3}{3} − \\frac{b^2-a^2}{2}(a+b)+(ab^2-a^2b) \\right)  + \\frac{f(b)}{(b − a)(b − x_{m})} \\left( \\frac{b^3-a^3}{3} − \\frac{b^2-a^2}{2}(x_{m}+a)+(bax_{m}-a^2x_{m}) \\right) $\n",
        "\n",
        "ahora con $x_{m} = \\frac{a+b}{2}$ y $h=\\frac{b-a}{2}$ el resultado de la integral es:\n",
        "\n",
        "\n",
        "\n",
        "\n",
        "$\\int_a^{b} f(x) ≈ \\int_a^{b}  p_{2}(x) = \\frac{h}{3}(f(a) + 4f(x_{m}) + f(b)).$"
      ],
      "metadata": {
        "id": "maqFtH9cjEbN"
      }
    },
    {
      "cell_type": "markdown",
      "source": [
        "5. Resolver la siguiente integral con el metodo del trapecio:\n",
        "\n",
        "$\\int_0^{1} e^{-x^2}dx $\n",
        "\n",
        "usando la condicion que el error debe ser menor a 0.005 en el calculo (si el numero de\n",
        "puntos (n) es decimal tomar el mayor entero)."
      ],
      "metadata": {
        "id": "xAq8MW2uxbL6"
      }
    },
    {
      "cell_type": "code",
      "source": [
        "def metodo_trapecio_compuesto(f, a, b, E):\n",
        "    x = sp.Symbol('x')\n",
        "    d2=sp.diff(f(x),x,2)\n",
        "    d3=sp.diff(f(x),x,3)\n",
        "    critical_points = sp.solve(d3, x)\n",
        "    real_roots = [root.evalf() for root in critical_points if root.is_real]\n",
        "    real_roots.extend([a, b])\n",
        "    mx = max([abs(d2.subs(x, p)) for p in real_roots if d2.subs(x, p) != sp.nan])\n",
        "    n=sp.sqrt((((b-a)**3)/(12*E))*mx)\n",
        "    n=sp.ceiling(n)\n",
        "    n=int(n)\n",
        "    h=(b-a)/n\n",
        "    sum=(h/2)*(f(a)+f(b))\n",
        "    for i in range(1,n):\n",
        "        sum+=h*f(a+i*h)\n",
        "    return sum\n"
      ],
      "metadata": {
        "id": "Dl42MsRIxc15"
      },
      "execution_count": 313,
      "outputs": []
    },
    {
      "cell_type": "code",
      "source": [
        "f2 = lambda x: sp.exp(-x**2)\n",
        "\n",
        "sp.N(metodo_trapecio_compuesto(f2, 0, 1, 0.005))"
      ],
      "metadata": {
        "colab": {
          "base_uri": "https://localhost:8080/",
          "height": 37
        },
        "id": "lPaome1Ot3Uj",
        "outputId": "84274649-9cff-48ec-8b86-28d77699be99"
      },
      "execution_count": 314,
      "outputs": [
        {
          "output_type": "execute_result",
          "data": {
            "text/plain": [
              "0.745119412436179"
            ],
            "text/latex": "$\\displaystyle 0.745119412436179$"
          },
          "metadata": {},
          "execution_count": 314
        }
      ]
    },
    {
      "cell_type": "markdown",
      "source": [
        "6. Para encontrar la inductancia exacta de una bobina toroidal es necesario calcular la integral:\n",
        "\n",
        "$\\int_{-a}^{a} \\frac{\\sqrt{a^2-x^2}}{R+x} dx = \\pi(R-\\sqrt{R^2-a^2})$\n",
        "\n",
        "donde R = 0.5 cm es el radio al centro del toriode y a = 0.01 cm es el radio de la seccion transversal del toriode. Estimar la integral con el metodo del trapecio y la regla de Simpson 1/3, con un error menor al 0.5%. Realizar la integral es un verdadero reto analıtico.\n"
      ],
      "metadata": {
        "id": "M6IFUSz8g1MP"
      }
    },
    {
      "cell_type": "code",
      "source": [
        "f1 = lambda x: sp.sqrt(0.01**2-x**2)/(0.5+x)"
      ],
      "metadata": {
        "id": "M5mM1nJTBxRU"
      },
      "execution_count": 315,
      "outputs": []
    },
    {
      "cell_type": "code",
      "source": [
        "def regla_simpson_simple(f, a, b):\n",
        "    h = (b - a) / 2\n",
        "    return (h / 3) * (f(a) + 4 * f((a + b) / 2) + f(b))\n",
        "\n",
        "regla_simpson_simple(f1, -0.01, 0.01)"
      ],
      "metadata": {
        "colab": {
          "base_uri": "https://localhost:8080/",
          "height": 37
        },
        "id": "VN10eHVx-PPx",
        "outputId": "01822bd9-a5be-4e81-8b35-840273b8df13"
      },
      "execution_count": 316,
      "outputs": [
        {
          "output_type": "execute_result",
          "data": {
            "text/plain": [
              "0.000266666666666667"
            ],
            "text/latex": "$\\displaystyle 0.000266666666666667$"
          },
          "metadata": {},
          "execution_count": 316
        }
      ]
    },
    {
      "cell_type": "markdown",
      "source": [
        "para la regla de simpson 1/3 el error es fijo pues $h=\\frac{b-a}{2}$ entonces no hay forma de ajustarlo"
      ],
      "metadata": {
        "id": "ioGKLHZaBmhf"
      }
    },
    {
      "cell_type": "code",
      "source": [
        "metodo_trapecio_compuesto(f1, -0.01, 0.01, 0.005)"
      ],
      "metadata": {
        "colab": {
          "base_uri": "https://localhost:8080/",
          "height": 37
        },
        "id": "rcwSIxJIjD_e",
        "outputId": "1c77d53d-ff2f-43fd-a073-47447c91ff1d"
      },
      "execution_count": 317,
      "outputs": [
        {
          "output_type": "execute_result",
          "data": {
            "text/plain": [
              "0"
            ],
            "text/latex": "$\\displaystyle 0$"
          },
          "metadata": {},
          "execution_count": 317
        }
      ]
    },
    {
      "cell_type": "markdown",
      "source": [
        "para ver por que falla el metodo del trapecio compuesto tenemos que ver como se calcula n en relacion con el error\n",
        "$E ≤ \\frac{h^2 (b − a)}\n",
        "{12}max |f′′(ξ)|$\n",
        "es decir el numero de sub-intervalos n es:\n",
        "$n ≤ \\sqrt{ \\frac{(b − a)^3}\n",
        "{12E}max |f′′(ξ)|}$\n",
        "con $a=-0.01$ $,$ $b=0.01$ $,$ $E=0.005$ $y$ $max |f′′(ξ)|=200$\n",
        "nos da que $n=0,16$ es decir que el error teorico nos dice que con 1 sub-intervalo es suficiente, es decir la integral seria $\\frac{h}{2} (f(a)+f(b))$ pero como $f(a)=f(b)=0$, nos da que la integral es 0.\n",
        "Si permitieramos que n fuera mucho mayor a 1, la integral si se aproximaria."
      ],
      "metadata": {
        "id": "M9i4rmYrCBH5"
      }
    },
    {
      "cell_type": "code",
      "source": [
        "def metodo_trapecio_compuesto2(f, a, b, n):\n",
        "    h=(b-a)/n\n",
        "    sum=(h/2)*(f(a)+f(b))\n",
        "    for i in range(1,n):\n",
        "        sum+=h*f(a+i*h)\n",
        "    return sum\n",
        "\n",
        "metodo_trapecio_compuesto2(f1, -0.01, 0.01, 10000)"
      ],
      "metadata": {
        "colab": {
          "base_uri": "https://localhost:8080/",
          "height": 37
        },
        "id": "tzua2ZDqFWP3",
        "outputId": "1556a4f2-79d3-4a1f-b8c9-f614eeb30961"
      },
      "execution_count": 318,
      "outputs": [
        {
          "output_type": "execute_result",
          "data": {
            "text/plain": [
              "0.000314190354821257"
            ],
            "text/latex": "$\\displaystyle 0.000314190354821257$"
          },
          "metadata": {},
          "execution_count": 318
        }
      ]
    },
    {
      "cell_type": "markdown",
      "source": [
        "7. Una forma de generalizar el metodo de integracion del trapecio para una integral doble\n",
        "de una funcion f(x, y) consiste en dividir el plano xy en un grilla de cuadrados iguales y\n",
        "calcular el promedio del valor de la funcion de cada uno de los 4 vertices de cada cuadrado\n",
        "pequeño de la grilla. Calcule numericamente el volumen de una semiesfera [4.5] de radio\n",
        "R = 1 como sigue:\n",
        "\n",
        "a) Cree una grilla entre $−R$ y $R$ en el plano $xy$, donde el numero de cuadrados en cada lado de la grilla sea $n$. Es decir, la grilla tendrıa $n + 1$ puntos en cada eje, y $n^2$ cuadrados pequenos"
      ],
      "metadata": {
        "id": "MfCG_yxYXV-7"
      }
    },
    {
      "cell_type": "code",
      "source": [
        "\n",
        "R = 1\n",
        "n = 1000\n",
        "x = np.linspace(-R, R, n + 1)\n",
        "y = np.linspace(-R, R, n + 1)\n",
        "x, y = np.meshgrid(x, y)\n",
        "\n",
        "def f0(x, y):\n",
        "    value =R**2 - x**2 - y**2\n",
        "    value = np.where(value < 0, 0, value)\n",
        "    return np.sqrt(value)\n",
        "\n",
        "fig = plt.figure()\n",
        "ax = fig.add_subplot(111, projection='3d')\n",
        "ax.plot_surface(x,y,f0(x,y),cmap='viridis')\n",
        "ax.set_xlabel('X')\n",
        "ax.set_ylabel('Y')\n",
        "ax.set_zlabel('Z')\n",
        "plt.show()"
      ],
      "metadata": {
        "id": "bFoU_Y15qyBZ",
        "colab": {
          "base_uri": "https://localhost:8080/",
          "height": 415
        },
        "outputId": "ad0ca9c6-0232-4b77-f92a-c9503015ad34"
      },
      "execution_count": 319,
      "outputs": [
        {
          "output_type": "display_data",
          "data": {
            "text/plain": [
              "<Figure size 640x480 with 1 Axes>"
            ],
            "image/png": "[encoded data removed]"
          },
          "metadata": {}
        }
      ]
    },
    {
      "cell_type": "markdown",
      "source": [
        "b) Para cada cuadrado pequeño calculo el promedio de la funcion en los cuatro vertices\n",
        "y multiplique por el area del cuadrado pequeno. Si el punto queda fuera de la esfera\n",
        "asuma que el valor de la funcion $f(x, y)$ es cero."
      ],
      "metadata": {
        "id": "T15q9knQd8SI"
      }
    },
    {
      "cell_type": "code",
      "source": [
        "def volumen_semiesfera(f, R, n):\n",
        "    x = np.linspace(-R, R, n + 1)\n",
        "    y = np.linspace(-R, R, n + 1)\n",
        "    x, y = np.meshgrid(x, y)\n",
        "    z=f0(x,y)\n",
        "    V=0\n",
        "    A=(x[0,1]-x[0,0])**2\n",
        "    for i in range(n):\n",
        "      for j in range(n):\n",
        "        V+=((z[i,j]+z[i,j+1]+z[i+1,j]+z[i+1,j+1])/4)*A\n",
        "    return V\n",
        "\n",
        "volumen_real=(4/3)*(np.pi*R**3)/2\n",
        "volumen_semiesfera(f0, R, n),volumen_real"
      ],
      "metadata": {
        "colab": {
          "base_uri": "https://localhost:8080/"
        },
        "id": "Twctpsaw3327",
        "outputId": "74534391-f103-46f1-d00f-dcc3e32b4b98"
      },
      "execution_count": 320,
      "outputs": [
        {
          "output_type": "execute_result",
          "data": {
            "text/plain": [
              "(2.0943883788632625, 2.0943951023931953)"
            ]
          },
          "metadata": {},
          "execution_count": 320
        }
      ]
    },
    {
      "cell_type": "markdown",
      "source": [
        "9. (Sympy) La regla de Simpson 3/8 consiste en aproximar el integrando por un polinomio\n",
        "interpolador de orden 3.\n",
        "a) Encontrar las funciones cardinales de dicha interpolacion e integrar para demostrar\n",
        "que:\n",
        "$\\int_{a}^{b} f(x) ≈ \\frac{3h}{8} \\left[f(a) + 3f(\\frac{2a + b}{3}) + 3f(\\frac{a + 2b}{3}) + f(b)\n",
        "\\right]$\n",
        "El numero de puntos de la discretizacion debe ser multiplo de tres.\n",
        "Hint: Use la siguiente discretizacion $(0, h, 2h, 3h)$\n"
      ],
      "metadata": {
        "id": "d-C8hXRrAuS3"
      }
    },
    {
      "cell_type": "code",
      "source": [
        "def Lagrange(x,X,i):\n",
        "  L = 1\n",
        "  for j in range(len(X)):\n",
        "    if i != j:\n",
        "      L *= (x-X[j])/(X[i]-X[j])\n",
        "  return L\n",
        "def Interpolate(x,X,Y):\n",
        "\n",
        "  Poly = 0\n",
        "  for i in range(len(X)):\n",
        "    Poly += Y[i]*Lagrange(x,X,i)\n",
        "  return Poly\n",
        "\n",
        "x=sp.Symbol('x')\n",
        "h=sp.Symbol('h')\n",
        "a=sp.Symbol('a')\n",
        "b=sp.Symbol('b')\n",
        "f = sp.Function('f')\n",
        "X = [a, a + h, a + 2*h, a + 3*h]\n",
        "Y = [f(a), f(a + h), f(a + 2*h), f(a + 3*h)]\n",
        "\n",
        "Poly = Interpolate(x, X, Y)\n",
        "Integral = sp.integrate(Poly, (x, a, a+3*h))\n",
        "\n",
        "Integral = sp.simplify(Integral)\n",
        "Integral\n"
      ],
      "metadata": {
        "colab": {
          "base_uri": "https://localhost:8080/",
          "height": 53
        },
        "id": "xXo8Vwtp5ieN",
        "outputId": "94c3419a-2b49-47e5-9144-cd2679b5e925"
      },
      "execution_count": 321,
      "outputs": [
        {
          "output_type": "execute_result",
          "data": {
            "text/plain": [
              "3*h*(f(a) + 3*f(a + h) + 3*f(a + 2*h) + f(a + 3*h))/8"
            ],
            "text/latex": "$\\displaystyle \\frac{3 h \\left(f{\\left(a \\right)} + 3 f{\\left(a + h \\right)} + 3 f{\\left(a + 2 h \\right)} + f{\\left(a + 3 h \\right)}\\right)}{8}$"
          },
          "metadata": {},
          "execution_count": 321
        }
      ]
    },
    {
      "cell_type": "markdown",
      "source": [
        "b) Dado que $h = \\frac{b − a}{3}$ , muestre que los puntos intermedios son $\\frac{2a+b}{3}$\n",
        "y\n",
        "$\\frac{a+2b}{3}$\n",
        "respectivamente."
      ],
      "metadata": {
        "id": "C6KAHHEkM0qr"
      }
    },
    {
      "cell_type": "code",
      "source": [
        "#el punto intermedio 1 es a+h\n",
        "pi1=a+h\n",
        "t=pi1.subs({h:(b-a)/3})\n",
        "sp.together(t)"
      ],
      "metadata": {
        "colab": {
          "base_uri": "https://localhost:8080/",
          "height": 52
        },
        "id": "Pyzg_tXsNrf0",
        "outputId": "252e588a-de72-44be-ee68-15d902d4d405"
      },
      "execution_count": 322,
      "outputs": [
        {
          "output_type": "execute_result",
          "data": {
            "text/plain": [
              "(2*a + b)/3"
            ],
            "text/latex": "$\\displaystyle \\frac{2 a + b}{3}$"
          },
          "metadata": {},
          "execution_count": 322
        }
      ]
    },
    {
      "cell_type": "code",
      "source": [
        "#el punto intermedio 2 es a+2h\n",
        "pi2=a+2*h\n",
        "t2=pi2.subs({h:(b-a)/3})\n",
        "sp.together(t2)"
      ],
      "metadata": {
        "colab": {
          "base_uri": "https://localhost:8080/",
          "height": 52
        },
        "id": "_wW6MoNTNrdH",
        "outputId": "6e3e07ed-dc86-40cb-dcc5-1afe552bd09b"
      },
      "execution_count": 323,
      "outputs": [
        {
          "output_type": "execute_result",
          "data": {
            "text/plain": [
              "(a + 2*b)/3"
            ],
            "text/latex": "$\\displaystyle \\frac{a + 2 b}{3}$"
          },
          "metadata": {},
          "execution_count": 323
        }
      ]
    },
    {
      "cell_type": "markdown",
      "source": [
        "10. (Sympy) Muestre que el error asociado a la regla de Simpson 3/8 simple est´a dado por:\n",
        "$E=\\frac{f^{4}(ξ)}{4!} \\int_{a}^{b} (x-x_{0})(x-x_{1})(x-x_{2})(x-x_{3}) =\n",
        "  \\frac{3}{80} h^{5} f^{4}(ξ) $\n",
        "\n",
        "Hint: Considere la siguiente integral:\n",
        "$I = \\int_{0}^{3h} (x)(x-h)(x-2h)(x-3h) dx$\n",
        "\n"
      ],
      "metadata": {
        "id": "ey4WitZDF-zL"
      }
    },
    {
      "cell_type": "code",
      "source": [
        "P=x*(x-h)*(x-2*h)*(x-3*h)\n",
        "I=sp.integrate(P,(x,0,3*h))\n",
        "xi=sp.Symbol(\"xi\")\n",
        "f = sp.Function(\"f\")\n",
        "f4=sp.diff(f(x), x, 4)\n",
        "f4=f4.subs({x:xi})\n",
        "\n",
        "E=((1/24)*I*f4)\n",
        "sp.nsimplify(E)\n"
      ],
      "metadata": {
        "colab": {
          "base_uri": "https://localhost:8080/",
          "height": 61
        },
        "id": "ucPZE-uPS3BY",
        "outputId": "9664a797-3298-4c75-ca4d-5ae3bcd4b42f"
      },
      "execution_count": 324,
      "outputs": [
        {
          "output_type": "execute_result",
          "data": {
            "text/plain": [
              "-3*h**5*Derivative(f(xi), (xi, 4))/80"
            ],
            "text/latex": "$\\displaystyle - \\frac{3 h^{5} \\frac{d^{4}}{d \\xi^{4}} f{\\left(\\xi \\right)}}{80}$"
          },
          "metadata": {},
          "execution_count": 324
        }
      ]
    },
    {
      "cell_type": "markdown",
      "source": [
        "15. (Sympy) Dada la aproximacion de cuadratura gausiana:\n",
        "$\\int_{-1}^{1} f(x) =  \\sum_{k=0}^{n} w_{k} f(x_{k})  $\n",
        "\n",
        "donde $ w_{0}, w_{1}, ...w_{n} $son los coeficientes ponderados o pesos.\n",
        "\n",
        "(a) Halle los ceros de los primeros 20 polinomios de Legendre.\n",
        "\n",
        "(b) Halle los pesos de ponderaci´on para los primeros 20 polinomios de Legendre."
      ],
      "metadata": {
        "id": "sqdqbc8SbOqM"
      }
    },
    {
      "cell_type": "code",
      "source": [
        "def GetLegendre(n):\n",
        "\n",
        "  x = sp.Symbol('x')\n",
        "  y = sp.Symbol('y')\n",
        "\n",
        "  y = (x**2 - 1)**n\n",
        "\n",
        "  p = sp.diff(y,x,n)/(2**n * np.math.factorial(n))\n",
        "\n",
        "  return p"
      ],
      "metadata": {
        "id": "kFEPHxuWutBt"
      },
      "execution_count": 325,
      "outputs": []
    },
    {
      "cell_type": "code",
      "source": [
        "def legendre_zeros(n):\n",
        "    x = sp.symbols('x')\n",
        "    p = GetLegendre(n)\n",
        "    critical_points = sp.Poly(p).all_roots()\n",
        "    real_roots = [root.evalf() for root in critical_points]\n",
        "    return real_roots\n",
        "\n",
        "nceros=[]\n",
        "for i in range(1,21):\n",
        "    nceros.append(legendre_zeros(i))\n",
        "nceros\n"
      ],
      "metadata": {
        "colab": {
          "base_uri": "https://localhost:8080/"
        },
        "id": "r1_6r2_HkDMb",
        "outputId": "8097ba6d-2b57-488b-d0f1-b5a9fcee32e6"
      },
      "execution_count": 326,
      "outputs": [
        {
          "output_type": "stream",
          "name": "stderr",
          "text": [
            "<ipython-input-325-bbea6c4c43f2>:8: DeprecationWarning: `np.math` is a deprecated alias for the standard library `math` module (Deprecated Numpy 1.25). Replace usages of `np.math` with `math`\n",
            "  p = sp.diff(y,x,n)/(2**n * np.math.factorial(n))\n"
          ]
        },
        {
          "output_type": "execute_result",
          "data": {
            "text/plain": [
              "[[0],\n",
              " [-0.577350269189626, 0.577350269189626],\n",
              " [-0.774596669241483, 0, 0.774596669241483],\n",
              " [-0.861136311594053,\n",
              "  -0.339981043584856,\n",
              "  0.339981043584856,\n",
              "  0.861136311594053],\n",
              " [-0.906179845938664,\n",
              "  -0.538469310105683,\n",
              "  0,\n",
              "  0.538469310105683,\n",
              "  0.906179845938664],\n",
              " [-0.932469514203152,\n",
              "  -0.661209386466264,\n",
              "  -0.238619186083197,\n",
              "  0.238619186083197,\n",
              "  0.661209386466264,\n",
              "  0.932469514203152],\n",
              " [-0.949107912342758,\n",
              "  -0.741531185599394,\n",
              "  -0.405845151377397,\n",
              "  0,\n",
              "  0.405845151377397,\n",
              "  0.741531185599394,\n",
              "  0.949107912342758],\n",
              " [-0.960289856497536,\n",
              "  -0.796666477413627,\n",
              "  -0.525532409916329,\n",
              "  -0.183434642495650,\n",
              "  0.183434642495650,\n",
              "  0.525532409916329,\n",
              "  0.796666477413627,\n",
              "  0.960289856497536],\n",
              " [-0.968160239507626,\n",
              "  -0.836031107326636,\n",
              "  -0.613371432700590,\n",
              "  -0.324253423403809,\n",
              "  0,\n",
              "  0.324253423403809,\n",
              "  0.613371432700590,\n",
              "  0.836031107326636,\n",
              "  0.968160239507626],\n",
              " [-0.973906528517172,\n",
              "  -0.865063366688985,\n",
              "  -0.679409568299024,\n",
              "  -0.433395394129247,\n",
              "  -0.148874338981631,\n",
              "  0.148874338981631,\n",
              "  0.433395394129247,\n",
              "  0.679409568299024,\n",
              "  0.865063366688985,\n",
              "  0.973906528517172],\n",
              " [-0.978228658146057,\n",
              "  -0.887062599768095,\n",
              "  -0.730152005574049,\n",
              "  -0.519096129206812,\n",
              "  -0.269543155952345,\n",
              "  0,\n",
              "  0.269543155952345,\n",
              "  0.519096129206812,\n",
              "  0.730152005574049,\n",
              "  0.887062599768095,\n",
              "  0.978228658146057],\n",
              " [-0.981560634246719,\n",
              "  -0.904117256370475,\n",
              "  -0.769902674194305,\n",
              "  -0.587317954286617,\n",
              "  -0.367831498998180,\n",
              "  -0.125233408511469,\n",
              "  0.125233408511469,\n",
              "  0.367831498998180,\n",
              "  0.587317954286617,\n",
              "  0.769902674194305,\n",
              "  0.904117256370475,\n",
              "  0.981560634246719],\n",
              " [-0.984183054718588,\n",
              "  -0.917598399222978,\n",
              "  -0.801578090733310,\n",
              "  -0.642349339440340,\n",
              "  -0.448492751036447,\n",
              "  -0.230458315955135,\n",
              "  0,\n",
              "  0.230458315955135,\n",
              "  0.448492751036447,\n",
              "  0.642349339440340,\n",
              "  0.801578090733310,\n",
              "  0.917598399222978,\n",
              "  0.984183054718588],\n",
              " [-0.986283808696812,\n",
              "  -0.928434883663574,\n",
              "  -0.827201315069765,\n",
              "  -0.687292904811685,\n",
              "  -0.515248636358154,\n",
              "  -0.319112368927890,\n",
              "  -0.108054948707344,\n",
              "  0.108054948707344,\n",
              "  0.319112368927890,\n",
              "  0.515248636358154,\n",
              "  0.687292904811685,\n",
              "  0.827201315069765,\n",
              "  0.928434883663574,\n",
              "  0.986283808696812],\n",
              " [-0.987992518020485,\n",
              "  -0.937273392400706,\n",
              "  -0.848206583410427,\n",
              "  -0.724417731360170,\n",
              "  -0.570972172608539,\n",
              "  -0.394151347077563,\n",
              "  -0.201194093997435,\n",
              "  0,\n",
              "  0.201194093997435,\n",
              "  0.394151347077563,\n",
              "  0.570972172608539,\n",
              "  0.724417731360170,\n",
              "  0.848206583410427,\n",
              "  0.937273392400706,\n",
              "  0.987992518020485],\n",
              " [-0.989400934991650,\n",
              "  -0.944575023073233,\n",
              "  -0.865631202387832,\n",
              "  -0.755404408355003,\n",
              "  -0.617876244402644,\n",
              "  -0.458016777657227,\n",
              "  -0.281603550779259,\n",
              "  -0.0950125098376374,\n",
              "  0.0950125098376374,\n",
              "  0.281603550779259,\n",
              "  0.458016777657227,\n",
              "  0.617876244402644,\n",
              "  0.755404408355003,\n",
              "  0.865631202387832,\n",
              "  0.944575023073233,\n",
              "  0.989400934991650],\n",
              " [-0.990575475314417,\n",
              "  -0.950675521768768,\n",
              "  -0.880239153726986,\n",
              "  -0.781514003896801,\n",
              "  -0.657671159216691,\n",
              "  -0.512690537086477,\n",
              "  -0.351231763453876,\n",
              "  -0.178484181495848,\n",
              "  0,\n",
              "  0.178484181495848,\n",
              "  0.351231763453876,\n",
              "  0.512690537086477,\n",
              "  0.657671159216691,\n",
              "  0.781514003896801,\n",
              "  0.880239153726986,\n",
              "  0.950675521768768,\n",
              "  0.990575475314417],\n",
              " [-0.991565168420931,\n",
              "  -0.955823949571398,\n",
              "  -0.892602466497556,\n",
              "  -0.803704958972523,\n",
              "  -0.691687043060353,\n",
              "  -0.559770831073948,\n",
              "  -0.411751161462843,\n",
              "  -0.251886225691506,\n",
              "  -0.0847750130417353,\n",
              "  0.0847750130417353,\n",
              "  0.251886225691506,\n",
              "  0.411751161462843,\n",
              "  0.559770831073948,\n",
              "  0.691687043060353,\n",
              "  0.803704958972523,\n",
              "  0.892602466497556,\n",
              "  0.955823949571398,\n",
              "  0.991565168420931],\n",
              " [-0.992406843843584,\n",
              "  -0.960208152134830,\n",
              "  -0.903155903614818,\n",
              "  -0.822714656537143,\n",
              "  -0.720966177335229,\n",
              "  -0.600545304661681,\n",
              "  -0.464570741375961,\n",
              "  -0.316564099963630,\n",
              "  -0.160358645640225,\n",
              "  0,\n",
              "  0.160358645640225,\n",
              "  0.316564099963630,\n",
              "  0.464570741375961,\n",
              "  0.600545304661681,\n",
              "  0.720966177335229,\n",
              "  0.822714656537143,\n",
              "  0.903155903614818,\n",
              "  0.960208152134830,\n",
              "  0.992406843843584],\n",
              " [-0.993128599185095,\n",
              "  -0.963971927277914,\n",
              "  -0.912234428251326,\n",
              "  -0.839116971822219,\n",
              "  -0.746331906460151,\n",
              "  -0.636053680726515,\n",
              "  -0.510867001950827,\n",
              "  -0.373706088715420,\n",
              "  -0.227785851141645,\n",
              "  -0.0765265211334973,\n",
              "  0.0765265211334973,\n",
              "  0.227785851141645,\n",
              "  0.373706088715420,\n",
              "  0.510867001950827,\n",
              "  0.636053680726515,\n",
              "  0.746331906460151,\n",
              "  0.839116971822219,\n",
              "  0.912234428251326,\n",
              "  0.963971927277914,\n",
              "  0.993128599185095]]"
            ]
          },
          "metadata": {},
          "execution_count": 326
        }
      ]
    },
    {
      "cell_type": "code",
      "source": [
        "def legendre_weights(n):\n",
        "    x = sp.symbols('x')\n",
        "    p = GetLegendre(n)\n",
        "    dp = sp.diff(p)\n",
        "    roots = legendre_zeros(n)\n",
        "    weights = []\n",
        "    for root in roots:\n",
        "        w_k = 2 / ((1 - root**2) * (dp.subs(x, root))**2)\n",
        "        weights.append(w_k)\n",
        "    return weights\n",
        "\n",
        "nweights=[]\n",
        "for i in range(1,21):\n",
        "    nweights.append(legendre_weights(i))\n",
        "nweights"
      ],
      "metadata": {
        "colab": {
          "base_uri": "https://localhost:8080/"
        },
        "id": "8Y9wZD1wVJrx",
        "outputId": "88d925a8-ca20-4c61-9cd5-6cdcb6a7a508"
      },
      "execution_count": 327,
      "outputs": [
        {
          "output_type": "stream",
          "name": "stderr",
          "text": [
            "<ipython-input-325-bbea6c4c43f2>:8: DeprecationWarning: `np.math` is a deprecated alias for the standard library `math` module (Deprecated Numpy 1.25). Replace usages of `np.math` with `math`\n",
            "  p = sp.diff(y,x,n)/(2**n * np.math.factorial(n))\n"
          ]
        },
        {
          "output_type": "execute_result",
          "data": {
            "text/plain": [
              "[[2],\n",
              " [1.00000000000000, 1.00000000000000],\n",
              " [0.555555555555555, 8/9, 0.555555555555555],\n",
              " [0.347854845137454, 0.652145154862546, 0.652145154862546, 0.347854845137454],\n",
              " [0.236926885056189,\n",
              "  0.478628670499367,\n",
              "  128/225,\n",
              "  0.478628670499367,\n",
              "  0.236926885056189],\n",
              " [0.171324492379170,\n",
              "  0.360761573048138,\n",
              "  0.467913934572691,\n",
              "  0.467913934572691,\n",
              "  0.360761573048138,\n",
              "  0.171324492379170],\n",
              " [0.129484966168870,\n",
              "  0.279705391489277,\n",
              "  0.381830050505119,\n",
              "  512/1225,\n",
              "  0.381830050505119,\n",
              "  0.279705391489277,\n",
              "  0.129484966168870],\n",
              " [0.101228536290376,\n",
              "  0.222381034453375,\n",
              "  0.313706645877887,\n",
              "  0.362683783378362,\n",
              "  0.362683783378362,\n",
              "  0.313706645877887,\n",
              "  0.222381034453375,\n",
              "  0.101228536290376],\n",
              " [0.0812743883615744,\n",
              "  0.180648160694858,\n",
              "  0.260610696402936,\n",
              "  0.312347077040003,\n",
              "  32768/99225,\n",
              "  0.312347077040003,\n",
              "  0.260610696402936,\n",
              "  0.180648160694858,\n",
              "  0.0812743883615744],\n",
              " [0.0666713443086881,\n",
              "  0.149451349150581,\n",
              "  0.219086362515982,\n",
              "  0.269266719309997,\n",
              "  0.295524224714753,\n",
              "  0.295524224714753,\n",
              "  0.269266719309997,\n",
              "  0.219086362515982,\n",
              "  0.149451349150581,\n",
              "  0.0666713443086881],\n",
              " [0.0556685671161737,\n",
              "  0.125580369464904,\n",
              "  0.186290210927734,\n",
              "  0.233193764591991,\n",
              "  0.262804544510247,\n",
              "  131072/480249,\n",
              "  0.262804544510247,\n",
              "  0.233193764591991,\n",
              "  0.186290210927734,\n",
              "  0.125580369464904,\n",
              "  0.0556685671161737],\n",
              " [0.0471753363865118,\n",
              "  0.106939325995319,\n",
              "  0.160078328543346,\n",
              "  0.203167426723066,\n",
              "  0.233492536538356,\n",
              "  0.249147045813403,\n",
              "  0.249147045813403,\n",
              "  0.233492536538356,\n",
              "  0.203167426723066,\n",
              "  0.160078328543346,\n",
              "  0.106939325995319,\n",
              "  0.0471753363865118],\n",
              " [0.0404840047653159,\n",
              "  0.0921214998377285,\n",
              "  0.138873510219789,\n",
              "  0.178145980761946,\n",
              "  0.207816047536889,\n",
              "  0.226283180262898,\n",
              "  2097152/9018009,\n",
              "  0.226283180262898,\n",
              "  0.207816047536889,\n",
              "  0.178145980761946,\n",
              "  0.138873510219789,\n",
              "  0.0921214998377285,\n",
              "  0.0404840047653159],\n",
              " [0.0351194603317519,\n",
              "  0.0801580871597603,\n",
              "  0.121518570687902,\n",
              "  0.157203167158193,\n",
              "  0.185538397477937,\n",
              "  0.205198463721295,\n",
              "  0.215263853463158,\n",
              "  0.215263853463158,\n",
              "  0.205198463721295,\n",
              "  0.185538397477937,\n",
              "  0.157203167158193,\n",
              "  0.121518570687902,\n",
              "  0.0801580871597603,\n",
              "  0.0351194603317519],\n",
              " [0.0307532419961174,\n",
              "  0.0703660474881081,\n",
              "  0.107159220467172,\n",
              "  0.139570677926155,\n",
              "  0.166269205816993,\n",
              "  0.186161000015562,\n",
              "  0.198431485327112,\n",
              "  8388608/41409225,\n",
              "  0.198431485327112,\n",
              "  0.186161000015562,\n",
              "  0.166269205816993,\n",
              "  0.139570677926155,\n",
              "  0.107159220467172,\n",
              "  0.0703660474881081,\n",
              "  0.0307532419961174],\n",
              " [0.0271524594117541,\n",
              "  0.0622535239386481,\n",
              "  0.0951585116824914,\n",
              "  0.124628971255535,\n",
              "  0.149595988816578,\n",
              "  0.169156519395002,\n",
              "  0.182603415044923,\n",
              "  0.189450610455069,\n",
              "  0.189450610455069,\n",
              "  0.182603415044923,\n",
              "  0.169156519395002,\n",
              "  0.149595988816578,\n",
              "  0.124628971255535,\n",
              "  0.0951585116824914,\n",
              "  0.0622535239386481,\n",
              "  0.0271524594117541],\n",
              " [0.0241483028685479,\n",
              "  0.0554595293739873,\n",
              "  0.0850361483171795,\n",
              "  0.111883847193406,\n",
              "  0.135136368468525,\n",
              "  0.154045761076812,\n",
              "  0.168004102156449,\n",
              "  0.176562705366993,\n",
              "  2147483648/11967266025,\n",
              "  0.176562705366993,\n",
              "  0.168004102156449,\n",
              "  0.154045761076812,\n",
              "  0.135136368468525,\n",
              "  0.111883847193406,\n",
              "  0.0850361483171795,\n",
              "  0.0554595293739873,\n",
              "  0.0241483028685479],\n",
              " [0.0216160135264834,\n",
              "  0.0497145488949698,\n",
              "  0.0764257302548886,\n",
              "  0.100942044106287,\n",
              "  0.122555206711480,\n",
              "  0.140642914670654,\n",
              "  0.154684675126265,\n",
              "  0.164276483745832,\n",
              "  0.169142382963144,\n",
              "  0.169142382963144,\n",
              "  0.164276483745832,\n",
              "  0.154684675126265,\n",
              "  0.140642914670654,\n",
              "  0.122555206711480,\n",
              "  0.100942044106287,\n",
              "  0.0764257302548886,\n",
              "  0.0497145488949698,\n",
              "  0.0216160135264834],\n",
              " [0.0194617882297266,\n",
              "  0.0448142267656996,\n",
              "  0.0690445427376415,\n",
              "  0.0914900216224474,\n",
              "  0.111566645547341,\n",
              "  0.128753962539328,\n",
              "  0.142606702173610,\n",
              "  0.152766042065859,\n",
              "  0.158968843393954,\n",
              "  8589934592/53335593025,\n",
              "  0.158968843393954,\n",
              "  0.152766042065859,\n",
              "  0.142606702173610,\n",
              "  0.128753962539328,\n",
              "  0.111566645547341,\n",
              "  0.0914900216224474,\n",
              "  0.0690445427376415,\n",
              "  0.0448142267656996,\n",
              "  0.0194617882297266],\n",
              " [0.0176140071391523,\n",
              "  0.0406014298003868,\n",
              "  0.0626720483341085,\n",
              "  0.0832767415767062,\n",
              "  0.101930119817241,\n",
              "  0.118194531961522,\n",
              "  0.131688638449165,\n",
              "  0.142096109318382,\n",
              "  0.149172986472604,\n",
              "  0.152753387130726,\n",
              "  0.152753387130726,\n",
              "  0.149172986472604,\n",
              "  0.142096109318382,\n",
              "  0.131688638449165,\n",
              "  0.118194531961522,\n",
              "  0.101930119817241,\n",
              "  0.0832767415767062,\n",
              "  0.0626720483341085,\n",
              "  0.0406014298003868,\n",
              "  0.0176140071391523]]"
            ]
          },
          "metadata": {},
          "execution_count": 327
        }
      ]
    },
    {
      "cell_type": "markdown",
      "source": [
        "16. Estime la siguiente integral usando el metodo de cuadratura de Gaus-Legendre:\n",
        "$\\int_{0}^{\\infty}\n",
        "\\frac{1}{ x^{4} + 1} ≈ 1.110721 $\n",
        "\n",
        "Hint: Dividir la integral para tener dos integrales con lımites [-1,1] y [0,1]."
      ],
      "metadata": {
        "id": "zZFHjpNYppci"
      }
    },
    {
      "cell_type": "markdown",
      "source": [
        "$\\int_{0}^{\\infty} \\frac{1}{ x^{4} + 1} = \\int_{0}^{1}\\frac{1}{ x^{4} + 1} + \\int_{1}^{\\infty}\n",
        "\\frac{1}{ x^{4} + 1} $\n",
        "\n",
        "para la primera, (como en la mayoria de casos), sea $x=\\frac{1+t}{2}$ y $dx=\\frac{1}{2}dt$\n",
        "\n",
        "para la segunda, sea $x=\\frac{1}{t}$ y $dx=-\\frac{1}{t^{2}}dt$ por lo que los limites serian de 1 a 0, la integral se multiplica por -1 para que los limites sean de 0 a 1 o,  $dx=\\frac{1}{t^{2}}dt$\n",
        "de la misma forma cambian los ceros y los pesos"
      ],
      "metadata": {
        "id": "YdPxGtPsudrE"
      }
    },
    {
      "cell_type": "code",
      "source": [
        "\n",
        "def caudratura_gauss_legendre(f, a, b, n):\n",
        "    x_k, w_k = np.polynomial.legendre.leggauss(n)\n",
        "    x_k_transformed = 0.5 * (x_k + 1) * (b - a) + a\n",
        "    w_k_transformed = 0.5 * (b - a) * w_k\n",
        "    integral_approx = np.dot(w_k_transformed, [f(x) for x in x_k_transformed])\n",
        "\n",
        "    return integral_approx\n",
        "\n",
        "def f(x):\n",
        "    return 1 / (x**4 + 1)\n",
        "\n",
        "integral_0_1 = caudratura_gauss_legendre(f, 0, 1, 10)\n",
        "\n",
        "def f_transformed(t):\n",
        "    x = 1 / t\n",
        "    dx_dt = 1 / t**2\n",
        "    return f(x) * dx_dt\n",
        "\n",
        "\n",
        "integral_1_inf = caudratura_gauss_legendre(f_transformed, 0, 1, 10)\n",
        "\n",
        "integral_total = integral_0_1 + integral_1_inf\n",
        "\n",
        "integral_total"
      ],
      "metadata": {
        "colab": {
          "base_uri": "https://localhost:8080/"
        },
        "id": "6Y6p_BLTtWqI",
        "outputId": "d7e8273c-0b63-4d15-86ab-7c0f153c0d4c"
      },
      "execution_count": 328,
      "outputs": [
        {
          "output_type": "execute_result",
          "data": {
            "text/plain": [
              "1.1107207345151289"
            ]
          },
          "metadata": {},
          "execution_count": 328
        }
      ]
    },
    {
      "cell_type": "code",
      "source": [
        "f_transformed(x)"
      ],
      "metadata": {
        "colab": {
          "base_uri": "https://localhost:8080/",
          "height": 58
        },
        "id": "NYm51DY23_t6",
        "outputId": "a813bb8c-3e41-4b40-a593-97dfbd41b383"
      },
      "execution_count": 329,
      "outputs": [
        {
          "output_type": "execute_result",
          "data": {
            "text/plain": [
              "1/(x**2*(1 + x**(-4)))"
            ],
            "text/latex": "$\\displaystyle \\frac{1}{x^{2} \\left(1 + \\frac{1}{x^{4}}\\right)}$"
          },
          "metadata": {},
          "execution_count": 329
        }
      ]
    },
    {
      "cell_type": "markdown",
      "source": [
        "17. In the black-body radiation problem the following integral appears:\n",
        "\n",
        "$ \\int_{0}^{\\infty} \\frac{x^3}{e^x − 1}dx = \\frac{\\pi ^ 4}{15}$\n",
        "\n",
        "a) Compute this integral using the Gauss-Laguerre quadrature method for n=3 evaluation points.\n",
        " para esto convertimos la integral en\n",
        "\n",
        "$ \\int_{0}^{\\infty} \\frac{e^{-x} x^3}{1 − e^{-x}}dx = \\frac{\\pi ^ 4}{15}$\n",
        "\n",
        "$ \\int_{0}^{\\infty} e^{-x} f(x)dx$\n",
        "\n",
        "donde $ f(x)= \\frac {x^3}{1 − e^{-x}}dx $"
      ],
      "metadata": {
        "id": "XSZt0vsD1lZE"
      }
    },
    {
      "cell_type": "code",
      "source": [
        "I_exact = np.pi**4 / 15\n",
        "def f(x):\n",
        "    return x**3 / (1- sp.exp(-x) )\n",
        "\n",
        "def L_n(n):\n",
        "    x=sp.Symbol('x')\n",
        "    y=sp.Symbol('y')\n",
        "    y=sp.exp(-x)*x**n\n",
        "    p=(sp.exp(x)/(sp.factorial(n)))*sp.diff(y,x,n)\n",
        "    return p.simplify()\n",
        "\n",
        "def lag_wk(n):\n",
        "    x = sp.Symbol('x')\n",
        "    L_n1 = L_n(n+1)\n",
        "    x_k = lag_zeros(n)\n",
        "    w_k = [float(x_i / ((n + 1)**2 * L_n1.subs(x, x_i)**2)) for x_i in x_k]\n",
        "    return w_k\n",
        "\n",
        "def lag_zeros(n):\n",
        "    x = sp.symbols('x')\n",
        "    p = L_n(n)\n",
        "    critical_points = sp.Poly(p).all_roots()\n",
        "    real_roots = [root.evalf() for root in critical_points]\n",
        "    return real_roots\n",
        "\n",
        "def gauss_laguerre_quadrature(f, n):\n",
        "    x_k = lag_zeros(n)\n",
        "    w_k = lag_wk(n)\n",
        "    integral_approx = np.dot(w_k, [f(x) for x in x_k])\n",
        "    return integral_approx\n",
        "\n",
        "I_estimated = gauss_laguerre_quadrature(f, 3)\n",
        "I_estimated, I_exact\n",
        "\n"
      ],
      "metadata": {
        "colab": {
          "base_uri": "https://localhost:8080/"
        },
        "id": "26uiWZ0qwakh",
        "outputId": "8556bf67-d7dc-46aa-c176-1d86b5e1820d"
      },
      "execution_count": 330,
      "outputs": [
        {
          "output_type": "execute_result",
          "data": {
            "text/plain": [
              "(6.48113017154003, 6.493939402266828)"
            ]
          },
          "metadata": {},
          "execution_count": 330
        }
      ]
    },
    {
      "cell_type": "markdown",
      "source": [
        "b) For this estimation, plot the relative error (ϵr(n) = Iestimated(n)/Iexact) as a function\n",
        "of the evaluation points, with n = [2, 3, ..., 10] [4.6]."
      ],
      "metadata": {
        "id": "hsMkoKpmKYc7"
      }
    },
    {
      "cell_type": "code",
      "source": [
        "# Part (b) - Compute the relative error for n = [2, 3, ..., 10]\n",
        "n_values = np.arange(2, 11)\n",
        "errors = []\n",
        "\n",
        "for n in n_values:\n",
        "    I_estimated = gauss_laguerre_quadrature(f, n)\n",
        "    relative_error = I_estimated / I_exact\n",
        "    errors.append(relative_error)\n",
        "\n",
        "\n",
        "plt.plot(n_values, errors, marker='o')\n",
        "plt.axhline(1, color='r', linestyle='--', label='Exact Value')\n",
        "plt.xlabel('Number of Evaluation Points (n)')\n",
        "plt.ylabel('Relative Error (I_estimated(n) / I_exact)')\n",
        "plt.title('Relative Error in Gauss-Laguerre Quadrature')\n",
        "plt.legend()\n",
        "plt.grid(True)\n",
        "plt.show()"
      ],
      "metadata": {
        "colab": {
          "base_uri": "https://localhost:8080/",
          "height": 472
        },
        "id": "fyYhTPiG6grS",
        "outputId": "a77de39c-6d9a-4765-ceb5-f775858b313d"
      },
      "execution_count": 331,
      "outputs": [
        {
          "output_type": "display_data",
          "data": {
            "text/plain": [
              "<Figure size 640x480 with 1 Axes>"
            ],
            "image/png": "[encoded data removed]"
          },
          "metadata": {}
        }
      ]
    },
    {
      "cell_type": "markdown",
      "source": [
        "21. Una funcion se puede representar como una combinacion lineal de $ N + 1$ polinomios de\n",
        "Legendre $ P_{n}(x), n = 0, 1, ..., N$.\n",
        "\n",
        "$\n",
        "f(x) = ∑_{n=0}^{N}c_{n}P_{n}(x) $ (1)\n",
        "\n",
        "El problema computacional requiere la estimacion de los coeficientes de la expansion. Sea\n",
        "la funcion signo:\n",
        "$sgn(x) = \\begin{cases}\n",
        "-1 &   x<{0} \\\\\n",
        "0 &  x=0 \\\\\n",
        "+1 & x>0\n",
        "\\end{cases}\n",
        "$\n",
        "\n",
        "(a) (Theoretical) Usando las relaciones de ortogonalidad de los polinomios de Legendre,\n",
        "muestre que los coeficientes estan dados por:\n",
        "\n",
        "$c_{n} =\\frac{2n + 1}{2} \\int_{-1}^{1} f(x)P_{n}(x)dx, n = 0, 1, ..., N $"
      ],
      "metadata": {
        "id": "G3msfoCFKoxH"
      }
    },
    {
      "cell_type": "markdown",
      "source": [
        "como $\\int_{-1}^{1} P_{n}(x)P_{m}(x)dx  = \\begin{cases}\n",
        "0 &   n \\neq m \\\\\n",
        "\\frac{2}{2n+1} &  n=m\n",
        "\\end{cases}\n",
        "$ (2)\n",
        "\n",
        "es decir si multiplicamos (1) por $P_{n}$\n",
        "\n",
        "$\n",
        "P_{n}f(x) = ∑_{n=0}^{N}c_{m}P_{n}P_{m}(x) $\n",
        "\n",
        "integramos ambos lados de -1 a 1\n",
        "\n",
        "$\\int_{-1}^{1} P_{n}f(x) =\\int_{-1}^{1} ∑_{n=0}^{N}c_{m}P_{n}P_{m}(x) $\n",
        "\n",
        "por propiedades de la suma e integral\n",
        "\n",
        "$\\int_{-1}^{1} P_{n}f(x) = ∑_{n=0}^{N}c_{m} \\int_{-1}^{1}P_{n}P_{m}(x) $\n",
        "\n",
        "por (2) tenemos que el unico termino que sobrevive es\n",
        "\n",
        "$\\int_{-1}^{1} P_{n}f(x) =c_{n} \\frac{2}{2n+1} $\n",
        "\n",
        "lo que nos da lo que queriamos\n",
        "\n",
        "$c_{n} =\\frac{2n + 1}{2} \\int_{-1}^{1} f(x)P_{n}(x)dx, n = 0, 1, ..., N $"
      ],
      "metadata": {
        "id": "IXVbmnRTQlDA"
      }
    },
    {
      "cell_type": "markdown",
      "source": [
        "(b) Implemente la funcion $sgn(x)$."
      ],
      "metadata": {
        "id": "idrvSxJsUAt-"
      }
    },
    {
      "cell_type": "code",
      "source": [
        "@np.vectorize\n",
        "def sgn(x):\n",
        "    if x < 0:\n",
        "        return -1\n",
        "    elif x == 0:\n",
        "        return 0\n",
        "    else:\n",
        "        return 1"
      ],
      "metadata": {
        "id": "MhvpiYmy7MYO"
      },
      "execution_count": 332,
      "outputs": []
    },
    {
      "cell_type": "markdown",
      "source": [
        "(c) Vectorice y dibuje la funcion"
      ],
      "metadata": {
        "id": "qbNMJCQcUJJU"
      }
    },
    {
      "cell_type": "code",
      "source": [
        "x_vals = np.linspace(-1, 1, 401)\n",
        "y=[sgn(i) for i in x_vals]\n",
        "plt.scatter(x_vals,y)\n",
        "plt.show()"
      ],
      "metadata": {
        "colab": {
          "base_uri": "https://localhost:8080/",
          "height": 430
        },
        "id": "Sd_qhD_YUJch",
        "outputId": "fda939e1-5536-4567-aa88-26235076db40"
      },
      "execution_count": 333,
      "outputs": [
        {
          "output_type": "display_data",
          "data": {
            "text/plain": [
              "<Figure size 640x480 with 1 Axes>"
            ],
            "image/png": "[encoded data removed]"
          },
          "metadata": {}
        }
      ]
    },
    {
      "cell_type": "markdown",
      "source": [
        "(d) Defina los puntos y los pesos de Gauss-Legendre al grado n = 15."
      ],
      "metadata": {
        "id": "uShqGw6nUpqN"
      }
    },
    {
      "cell_type": "code",
      "source": [
        "x_k=legendre_zeros(15)\n",
        "w_k=legendre_weights(15)"
      ],
      "metadata": {
        "colab": {
          "base_uri": "https://localhost:8080/"
        },
        "id": "a9emePkiUqCO",
        "outputId": "b7597c26-a8f7-42a5-eea3-04ed3f9f62ec"
      },
      "execution_count": 334,
      "outputs": [
        {
          "output_type": "stream",
          "name": "stderr",
          "text": [
            "<ipython-input-325-bbea6c4c43f2>:8: DeprecationWarning: `np.math` is a deprecated alias for the standard library `math` module (Deprecated Numpy 1.25). Replace usages of `np.math` with `math`\n",
            "  p = sp.diff(y,x,n)/(2**n * np.math.factorial(n))\n"
          ]
        }
      ]
    },
    {
      "cell_type": "markdown",
      "source": [
        "(e) Cree y guarde los polinomios de Legendre al grado N = 20."
      ],
      "metadata": {
        "id": "dVRe6SteWxtP"
      }
    },
    {
      "cell_type": "code",
      "source": [
        "npoly=[]\n",
        "for i in range(21):\n",
        "    npoly.append(GetLegendre(i))\n",
        "npoly"
      ],
      "metadata": {
        "colab": {
          "base_uri": "https://localhost:8080/"
        },
        "id": "PTQCVmy0Wxc5",
        "outputId": "b43a514a-f758-4639-bc0d-119c81b74749"
      },
      "execution_count": 335,
      "outputs": [
        {
          "output_type": "stream",
          "name": "stderr",
          "text": [
            "<ipython-input-325-bbea6c4c43f2>:8: DeprecationWarning: `np.math` is a deprecated alias for the standard library `math` module (Deprecated Numpy 1.25). Replace usages of `np.math` with `math`\n",
            "  p = sp.diff(y,x,n)/(2**n * np.math.factorial(n))\n"
          ]
        },
        {
          "output_type": "execute_result",
          "data": {
            "text/plain": [
              "[1,\n",
              " x,\n",
              " (3*x**2 - 1)/2,\n",
              " x*(5*x**2 - 3)/2,\n",
              " (8*x**4 + 24*x**2*(x**2 - 1) + 3*(x**2 - 1)**2)/8,\n",
              " x*(8*x**4 + 40*x**2*(x**2 - 1) + 15*(x**2 - 1)**2)/8,\n",
              " (16*x**6 + 120*x**4*(x**2 - 1) + 90*x**2*(x**2 - 1)**2 + 5*(x**2 - 1)**3)/16,\n",
              " x*(16*x**6 + 168*x**4*(x**2 - 1) + 210*x**2*(x**2 - 1)**2 + 35*(x**2 - 1)**3)/16,\n",
              " (128*x**8 + 1792*x**6*(x**2 - 1) + 3360*x**4*(x**2 - 1)**2 + 1120*x**2*(x**2 - 1)**3 + 35*(x**2 - 1)**4)/128,\n",
              " x*(128*x**8 + 2304*x**6*(x**2 - 1) + 6048*x**4*(x**2 - 1)**2 + 3360*x**2*(x**2 - 1)**3 + 315*(x**2 - 1)**4)/128,\n",
              " (256*x**10 + 5760*x**8*(x**2 - 1) + 20160*x**6*(x**2 - 1)**2 + 16800*x**4*(x**2 - 1)**3 + 3150*x**2*(x**2 - 1)**4 + 63*(x**2 - 1)**5)/256,\n",
              " x*(256*x**10 + 7040*x**8*(x**2 - 1) + 31680*x**6*(x**2 - 1)**2 + 36960*x**4*(x**2 - 1)**3 + 11550*x**2*(x**2 - 1)**4 + 693*(x**2 - 1)**5)/256,\n",
              " (1024*x**12 + 33792*x**10*(x**2 - 1) + 190080*x**8*(x**2 - 1)**2 + 295680*x**6*(x**2 - 1)**3 + 138600*x**4*(x**2 - 1)**4 + 16632*x**2*(x**2 - 1)**5 + 231*(x**2 - 1)**6)/1024,\n",
              " x*(1024*x**12 + 39936*x**10*(x**2 - 1) + 274560*x**8*(x**2 - 1)**2 + 549120*x**6*(x**2 - 1)**3 + 360360*x**4*(x**2 - 1)**4 + 72072*x**2*(x**2 - 1)**5 + 3003*(x**2 - 1)**6)/1024,\n",
              " (2048*x**14 + 93184*x**12*(x**2 - 1) + 768768*x**10*(x**2 - 1)**2 + 1921920*x**8*(x**2 - 1)**3 + 1681680*x**6*(x**2 - 1)**4 + 504504*x**4*(x**2 - 1)**5 + 42042*x**2*(x**2 - 1)**6 + 429*(x**2 - 1)**7)/2048,\n",
              " x*(2048*x**14 + 107520*x**12*(x**2 - 1) + 1048320*x**10*(x**2 - 1)**2 + 3203200*x**8*(x**2 - 1)**3 + 3603600*x**6*(x**2 - 1)**4 + 1513512*x**4*(x**2 - 1)**5 + 210210*x**2*(x**2 - 1)**6 + 6435*(x**2 - 1)**7)/2048,\n",
              " (32768*x**16 + 1966080*x**14*(x**2 - 1) + 22364160*x**12*(x**2 - 1)**2 + 82001920*x**10*(x**2 - 1)**3 + 115315200*x**8*(x**2 - 1)**4 + 64576512*x**6*(x**2 - 1)**5 + 13453440*x**4*(x**2 - 1)**6 + 823680*x**2*(x**2 - 1)**7 + 6435*(x**2 - 1)**8)/32768,\n",
              " x*(32768*x**16 + 2228224*x**14*(x**2 - 1) + 29245440*x**12*(x**2 - 1)**2 + 126730240*x**10*(x**2 - 1)**3 + 217817600*x**8*(x**2 - 1)**4 + 156828672*x**6*(x**2 - 1)**5 + 45741696*x**4*(x**2 - 1)**6 + 4667520*x**2*(x**2 - 1)**7 + 109395*(x**2 - 1)**8)/32768,\n",
              " (65536*x**18 + 5013504*x**16*(x**2 - 1) + 75202560*x**14*(x**2 - 1)**2 + 380190720*x**12*(x**2 - 1)**3 + 784143360*x**10*(x**2 - 1)**4 + 705729024*x**8*(x**2 - 1)**5 + 274450176*x**6*(x**2 - 1)**6 + 42007680*x**4*(x**2 - 1)**7 + 1969110*x**2*(x**2 - 1)**8 + 12155*(x**2 - 1)**9)/65536,\n",
              " x*(65536*x**18 + 5603328*x**16*(x**2 - 1) + 95256576*x**14*(x**2 - 1)**2 + 555663360*x**12*(x**2 - 1)**3 + 1354429440*x**10*(x**2 - 1)**4 + 1489872384*x**8*(x**2 - 1)**5 + 744936192*x**6*(x**2 - 1)**6 + 159629184*x**4*(x**2 - 1)**7 + 12471030*x**2*(x**2 - 1)**8 + 230945*(x**2 - 1)**9)/65536,\n",
              " (262144*x**20 + 24903680*x**18*(x**2 - 1) + 476282880*x**16*(x**2 - 1)**2 + 3175219200*x**14*(x**2 - 1)**3 + 9029529600*x**12*(x**2 - 1)**4 + 11918979072*x**10*(x**2 - 1)**5 + 7449361920*x**8*(x**2 - 1)**6 + 2128389120*x**6*(x**2 - 1)**7 + 249420600*x**4*(x**2 - 1)**8 + 9237800*x**2*(x**2 - 1)**9 + 46189*(x**2 - 1)**10)/262144]"
            ]
          },
          "metadata": {},
          "execution_count": 335
        }
      ]
    },
    {
      "cell_type": "markdown",
      "source": [
        "(f) Cree una funci´on que calcule los N + 1 coeficientes en un array de numpy.\n"
      ],
      "metadata": {
        "id": "W7mWU61YXEWR"
      }
    },
    {
      "cell_type": "code",
      "source": [
        "def calcular_coeficientes(f, N, puntos, pesos, npoly):\n",
        "    coeficientes = np.zeros(N + 1)\n",
        "    for n in range(N + 1):\n",
        "        integral = 0\n",
        "        Pn = npoly[n]\n",
        "        for i in range(len(puntos)):\n",
        "            fx = f(puntos[i])\n",
        "            Pn_val = Pn.subs(sp.Symbol('x'), puntos[i])\n",
        "            integral += pesos[i] * fx * Pn_val\n",
        "\n",
        "        coeficientes[n] = (2 * n + 1) / 2 * integral\n",
        "\n",
        "    return coeficientes\n",
        "N=20\n",
        "coeficientes = calcular_coeficientes(sgn, N,x_k,w_k,npoly)\n",
        "coeficientes"
      ],
      "metadata": {
        "colab": {
          "base_uri": "https://localhost:8080/"
        },
        "id": "2lytYnoKXD1Y",
        "outputId": "86ae8879-ef67-4d99-bbea-5ec508297831"
      },
      "execution_count": 336,
      "outputs": [
        {
          "output_type": "execute_result",
          "data": {
            "text/plain": [
              "array([-7.45931095e-17,  1.48971231e+00,  1.73472348e-17, -8.38742583e-01,\n",
              "       -3.12250226e-17,  6.15369232e-01,  0.00000000e+00, -4.68994560e-01,\n",
              "       -2.94902991e-17,  3.48540946e-01,  1.82145965e-17, -2.36219080e-01,\n",
              "       -4.33680869e-17,  1.22517145e-01,  1.88651178e-17, -1.19791013e-14,\n",
              "       -2.86229374e-17, -1.39529963e-01, -3.20923843e-17,  3.07786739e-01,\n",
              "        3.55618313e-17])"
            ]
          },
          "metadata": {},
          "execution_count": 336
        }
      ]
    },
    {
      "cell_type": "markdown",
      "source": [
        "(g) Calcule la combinaci´on lineal (Ecuaci´on (4.195)) para cada valor del dominio que\n",
        "uso para dibujar la funci´on original."
      ],
      "metadata": {
        "id": "Kv5bzUDPaOPk"
      }
    },
    {
      "cell_type": "code",
      "source": [
        "def combinacion_lineal_legendre2(x_v, coeficientes, npoly):\n",
        "    N = len(coeficientes) - 1\n",
        "    x = sp.Symbol('x')\n",
        "    Pn_matrix = np.array([[npoly[n].subs(x, val) for val in x_v] for n in range(N + 1)], dtype=float)\n",
        "    f_aprox = np.dot(coeficientes, Pn_matrix)\n",
        "\n",
        "    return f_aprox\n"
      ],
      "metadata": {
        "id": "FJoFFo_Tgumb"
      },
      "execution_count": 337,
      "outputs": []
    },
    {
      "cell_type": "markdown",
      "source": [
        "(h) Dibuje la representaci´on en la base de Legendre para obtener:\n"
      ],
      "metadata": {
        "id": "9BfcGELYizOC"
      }
    },
    {
      "cell_type": "code",
      "source": [
        "\n",
        "\n",
        "f_aprox = combinacion_lineal_legendre2(x_vals, coeficientes3,npoly)\n",
        "plt.plot(x_vals, sgn(x_vals), label='Función original: sgn(x)', color='blue')\n",
        "plt.plot(x_vals, f_aprox, label=f'Aproximación con Legendre (N={N})', color='red', linestyle='--')\n",
        "plt.title('Aproximación de sgn(x) usando la expansión en polinomios de Legendre')\n",
        "plt.xlabel('x')\n",
        "plt.ylabel('f(x)')\n",
        "plt.legend()\n",
        "plt.grid(True)\n",
        "plt.show()"
      ],
      "metadata": {
        "colab": {
          "base_uri": "https://localhost:8080/",
          "height": 472
        },
        "id": "u8nUKJzfhyYF",
        "outputId": "1fb5508f-8114-4e2d-ba3e-04da46634a65"
      },
      "execution_count": 338,
      "outputs": [
        {
          "output_type": "display_data",
          "data": {
            "text/plain": [
              "<Figure size 640x480 with 1 Axes>"
            ],
            "image/png": "[encoded data removed]"
          },
          "metadata": {}
        }
      ]
    }
  ]
}